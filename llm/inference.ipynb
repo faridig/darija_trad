{
 "cells": [
  {
   "cell_type": "code",
   "execution_count": 1,
   "metadata": {},
   "outputs": [
    {
     "name": "stderr",
     "output_type": "stream",
     "text": [
      "Device set to use cuda:0\n"
     ]
    },
    {
     "name": "stdout",
     "output_type": "stream",
     "text": [
      "👉 Traduction : بغيت نمشي ل مراكش ب تران\n"
     ]
    }
   ],
   "source": [
    "from transformers import pipeline, AutoTokenizer, AutoModelForSeq2SeqLM\n",
    "\n",
    "# Recharger modèle fine-tuné\n",
    "model_path = \"nllb-darija-lora-model\"\n",
    "tokenizer = AutoTokenizer.from_pretrained(model_path)\n",
    "model = AutoModelForSeq2SeqLM.from_pretrained(model_path)\n",
    "\n",
    "# Création de la pipeline avec les bons paramètres\n",
    "translator = pipeline(\"translation\", model=model, tokenizer=tokenizer, src_lang=\"fra_Latn\", tgt_lang=\"ary_Arab\")\n",
    "\n",
    "# Traduction d’un exemple\n",
    "text_fr = \"Je veux aller à Marrakech en train\"\n",
    "output = translator(text_fr)\n",
    "\n",
    "print(\"👉 Traduction :\", output[0]['translation_text'])\n"
   ]
  },
  {
   "cell_type": "code",
   "execution_count": null,
   "metadata": {},
   "outputs": [],
   "source": []
  }
 ],
 "metadata": {
  "kernelspec": {
   "display_name": "venv",
   "language": "python",
   "name": "python3"
  },
  "language_info": {
   "codemirror_mode": {
    "name": "ipython",
    "version": 3
   },
   "file_extension": ".py",
   "mimetype": "text/x-python",
   "name": "python",
   "nbconvert_exporter": "python",
   "pygments_lexer": "ipython3",
   "version": "3.12.3"
  }
 },
 "nbformat": 4,
 "nbformat_minor": 2
}
